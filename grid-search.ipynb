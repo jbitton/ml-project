{
 "cells": [
  {
   "cell_type": "code",
   "execution_count": 2,
   "metadata": {},
   "outputs": [
    {
     "data": {
      "text/html": [
       "<div>\n",
       "<style scoped>\n",
       "    .dataframe tbody tr th:only-of-type {\n",
       "        vertical-align: middle;\n",
       "    }\n",
       "\n",
       "    .dataframe tbody tr th {\n",
       "        vertical-align: top;\n",
       "    }\n",
       "\n",
       "    .dataframe thead th {\n",
       "        text-align: right;\n",
       "    }\n",
       "</style>\n",
       "<table border=\"1\" class=\"dataframe\">\n",
       "  <thead>\n",
       "    <tr style=\"text-align: right;\">\n",
       "      <th></th>\n",
       "      <th>param_random_state</th>\n",
       "      <th>mean_test_score</th>\n",
       "      <th>mean_train_score</th>\n",
       "      <th>std_test_score</th>\n",
       "      <th>std_train_score</th>\n",
       "      <th>params</th>\n",
       "    </tr>\n",
       "  </thead>\n",
       "  <tbody>\n",
       "    <tr>\n",
       "      <th>0</th>\n",
       "      <td>0</td>\n",
       "      <td>0.653527</td>\n",
       "      <td>0.723007</td>\n",
       "      <td>0.040225</td>\n",
       "      <td>0.007564</td>\n",
       "      <td>{'random_state': 0}</td>\n",
       "    </tr>\n",
       "  </tbody>\n",
       "</table>\n",
       "</div>"
      ],
      "text/plain": [
       "   param_random_state  mean_test_score  mean_train_score  std_test_score  \\\n",
       "0                   0         0.653527          0.723007        0.040225   \n",
       "\n",
       "   std_train_score               params  \n",
       "0         0.007564  {'random_state': 0}  "
      ]
     },
     "execution_count": 2,
     "metadata": {},
     "output_type": "execute_result"
    }
   ],
   "source": [
    "import numpy as np\n",
    "import pandas as pd\n",
    "# replace comment with model import\n",
    "from sklearn.model_selection import GridSearchCV\n",
    "from sklearn.metrics import roc_auc_score, make_scorer\n",
    "from preprocessing import preprocessing, get_train_and_test, standardize_features\n",
    "\n",
    "import warnings\n",
    "warnings.filterwarnings('ignore')\n",
    "\n",
    "x_values, y_values = preprocessing()\n",
    "x_train, x_test, y_train, y_test = get_train_and_test(x_values, y_values)\n",
    "x_train, x_test = standardize_features(x_train, x_test)\n",
    "\n",
    "param_grid = {\n",
    "    'random_state': [0]\n",
    "}\n",
    "grid = GridSearchCV(model(), param_grid, scoring=make_scorer(roc_auc_score), cv=10)\n",
    "grid.fit(x_train, y_train)\n",
    "\n",
    "df = pd.DataFrame(grid.cv_results_)\n",
    "cols_to_keep = ['param_' + k for k in param_grid.keys()] +\\\n",
    "               [\"mean_test_score\", \"mean_train_score\", \"std_test_score\", \"std_train_score\",\"params\"] \n",
    "df_output = df[cols_to_keep].fillna('-')\n",
    "df_output.sort_values(by=[\"mean_test_score\"], ascending=False)"
   ]
  },
  {
   "cell_type": "code",
   "execution_count": 5,
   "metadata": {},
   "outputs": [
    {
     "name": "stdout",
     "output_type": "stream",
     "text": [
      "{'random_state': 0}\n"
     ]
    },
    {
     "data": {
      "text/plain": [
       "(0.7169352597943872, 0.6549636803874093)"
      ]
     },
     "execution_count": 5,
     "metadata": {},
     "output_type": "execute_result"
    }
   ],
   "source": [
    "df_output = df[cols_to_keep].fillna('-')\n",
    "best_params = df_output.sort_values(by=[\"mean_test_score\"], ascending=False)['params'].iloc[0]\n",
    "print(best_params)\n",
    "\n",
    "clf = model()\n",
    "clf.set_params(**best_params)\n",
    "clf.fit(x_train, y_train)\n",
    "\n",
    "roc_auc_score(y_train, clf.predict(x_train)), roc_auc_score(y_test, clf.predict(x_test))"
   ]
  }
 ],
 "metadata": {
  "kernelspec": {
   "display_name": "Python 3",
   "language": "python",
   "name": "python3"
  },
  "language_info": {
   "codemirror_mode": {
    "name": "ipython",
    "version": 3
   },
   "file_extension": ".py",
   "mimetype": "text/x-python",
   "name": "python",
   "nbconvert_exporter": "python",
   "pygments_lexer": "ipython3",
   "version": "3.6.0"
  }
 },
 "nbformat": 4,
 "nbformat_minor": 2
}
